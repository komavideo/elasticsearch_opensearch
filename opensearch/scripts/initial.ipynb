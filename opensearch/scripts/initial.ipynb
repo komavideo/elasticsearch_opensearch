{
 "cells": [
  {
   "cell_type": "code",
   "execution_count": 3,
   "metadata": {},
   "outputs": [],
   "source": [
    "from opensearchpy import OpenSearch, helpers\n",
    "\n",
    "\n",
    "def opensearch_client(host, port, auth):\n",
    "    client = OpenSearch(\n",
    "        hosts = [{'host': host, 'port': port}],\n",
    "        http_auth = auth,\n",
    "        use_ssl = True,\n",
    "        verify_certs = False\n",
    "    )\n",
    "    info = client.info()\n",
    "    print(f\"Welcome to {info['version']['distribution']} {info['version']['number']}!\")\n",
    "    return client\n",
    "\n",
    "def opensearch_bulk_sync(client, index_name, df, mapping=None):\n",
    "    if client.indices.exists(index=index_name):\n",
    "        client.indices.delete(index=index_name)\n",
    "    \n",
    "    if mapping:\n",
    "        client.indices.create(index=index_name, body=mapping)\n",
    "    else:\n",
    "        client.indices.create(index=index_name)\n",
    "\n",
    "    data = [\n",
    "        {\"_index\": index_name, \"_id\": i, \"_source\": row.to_dict()}\n",
    "        for i, row in df.iterrows()\n",
    "    ]\n",
    "\n",
    "        \n",
    "    success, failed = helpers.bulk(client=client, actions=data)\n",
    "    return success, failed\n",
    "\n",
    "def opensearch_bulk_async(client, index_name, df, mapping=None):\n",
    "    if client.indices.exists(index=index_name):\n",
    "        client.indices.delete(index=index_name)\n",
    "        \n",
    "    if mapping:\n",
    "        client.indices.create(index=index_name, body=mapping)\n",
    "    else:\n",
    "        client.indices.create(index=index_name)\n",
    "        \n",
    "    data = dataframe_to_actions(df, index_name)\n",
    "    success, failed = helpers.bulk(client=client, actions=data)\n",
    "    return success, failed\n",
    "\n",
    "def dataframe_to_actions(df, index_name):\n",
    "    for i, row in df.iterrows():\n",
    "        yield {\n",
    "            \"_index\": index_name,\n",
    "            \"_id\": i,\n",
    "            \"_source\": row.to_dict()\n",
    "        }\n",
    "\n"
   ]
  },
  {
   "cell_type": "code",
   "execution_count": 4,
   "metadata": {},
   "outputs": [
    {
     "name": "stderr",
     "output_type": "stream",
     "text": [
      "/home/ubuntu/.pyenv/versions/langflow/lib/python3.11/site-packages/opensearchpy/connection/http_urllib3.py:214: UserWarning: Connecting to https://192.168.0.111:9200 using SSL with verify_certs=False is insecure.\n",
      "  warnings.warn(\n",
      "/home/ubuntu/.pyenv/versions/langflow/lib/python3.11/site-packages/urllib3/connectionpool.py:1099: InsecureRequestWarning: Unverified HTTPS request is being made to host '192.168.0.111'. Adding certificate verification is strongly advised. See: https://urllib3.readthedocs.io/en/latest/advanced-usage.html#tls-warnings\n",
      "  warnings.warn(\n",
      "/home/ubuntu/.pyenv/versions/langflow/lib/python3.11/site-packages/urllib3/connectionpool.py:1099: InsecureRequestWarning: Unverified HTTPS request is being made to host '192.168.0.111'. Adding certificate verification is strongly advised. See: https://urllib3.readthedocs.io/en/latest/advanced-usage.html#tls-warnings\n",
      "  warnings.warn(\n",
      "/home/ubuntu/.pyenv/versions/langflow/lib/python3.11/site-packages/urllib3/connectionpool.py:1099: InsecureRequestWarning: Unverified HTTPS request is being made to host '192.168.0.111'. Adding certificate verification is strongly advised. See: https://urllib3.readthedocs.io/en/latest/advanced-usage.html#tls-warnings\n",
      "  warnings.warn(\n"
     ]
    },
    {
     "name": "stdout",
     "output_type": "stream",
     "text": [
      "Welcome to opensearch 2.16.0!\n"
     ]
    },
    {
     "name": "stderr",
     "output_type": "stream",
     "text": [
      "/home/ubuntu/.pyenv/versions/langflow/lib/python3.11/site-packages/urllib3/connectionpool.py:1099: InsecureRequestWarning: Unverified HTTPS request is being made to host '192.168.0.111'. Adding certificate verification is strongly advised. See: https://urllib3.readthedocs.io/en/latest/advanced-usage.html#tls-warnings\n",
      "  warnings.warn(\n",
      "/home/ubuntu/.pyenv/versions/langflow/lib/python3.11/site-packages/urllib3/connectionpool.py:1099: InsecureRequestWarning: Unverified HTTPS request is being made to host '192.168.0.111'. Adding certificate verification is strongly advised. See: https://urllib3.readthedocs.io/en/latest/advanced-usage.html#tls-warnings\n",
      "  warnings.warn(\n",
      "/home/ubuntu/.pyenv/versions/langflow/lib/python3.11/site-packages/urllib3/connectionpool.py:1099: InsecureRequestWarning: Unverified HTTPS request is being made to host '192.168.0.111'. Adding certificate verification is strongly advised. See: https://urllib3.readthedocs.io/en/latest/advanced-usage.html#tls-warnings\n",
      "  warnings.warn(\n",
      "/home/ubuntu/.pyenv/versions/langflow/lib/python3.11/site-packages/urllib3/connectionpool.py:1099: InsecureRequestWarning: Unverified HTTPS request is being made to host '192.168.0.111'. Adding certificate verification is strongly advised. See: https://urllib3.readthedocs.io/en/latest/advanced-usage.html#tls-warnings\n",
      "  warnings.warn(\n",
      "/home/ubuntu/.pyenv/versions/langflow/lib/python3.11/site-packages/urllib3/connectionpool.py:1099: InsecureRequestWarning: Unverified HTTPS request is being made to host '192.168.0.111'. Adding certificate verification is strongly advised. See: https://urllib3.readthedocs.io/en/latest/advanced-usage.html#tls-warnings\n",
      "  warnings.warn(\n",
      "/home/ubuntu/.pyenv/versions/langflow/lib/python3.11/site-packages/urllib3/connectionpool.py:1099: InsecureRequestWarning: Unverified HTTPS request is being made to host '192.168.0.111'. Adding certificate verification is strongly advised. See: https://urllib3.readthedocs.io/en/latest/advanced-usage.html#tls-warnings\n",
      "  warnings.warn(\n",
      "/home/ubuntu/.pyenv/versions/langflow/lib/python3.11/site-packages/urllib3/connectionpool.py:1099: InsecureRequestWarning: Unverified HTTPS request is being made to host '192.168.0.111'. Adding certificate verification is strongly advised. See: https://urllib3.readthedocs.io/en/latest/advanced-usage.html#tls-warnings\n",
      "  warnings.warn(\n",
      "/home/ubuntu/.pyenv/versions/langflow/lib/python3.11/site-packages/urllib3/connectionpool.py:1099: InsecureRequestWarning: Unverified HTTPS request is being made to host '192.168.0.111'. Adding certificate verification is strongly advised. See: https://urllib3.readthedocs.io/en/latest/advanced-usage.html#tls-warnings\n",
      "  warnings.warn(\n",
      "/home/ubuntu/.pyenv/versions/langflow/lib/python3.11/site-packages/urllib3/connectionpool.py:1099: InsecureRequestWarning: Unverified HTTPS request is being made to host '192.168.0.111'. Adding certificate verification is strongly advised. See: https://urllib3.readthedocs.io/en/latest/advanced-usage.html#tls-warnings\n",
      "  warnings.warn(\n"
     ]
    },
    {
     "name": "stdout",
     "output_type": "stream",
     "text": [
      "Successfully indexed 3972 documents.\n"
     ]
    }
   ],
   "source": [
    "from opensearchpy.helpers import bulk\n",
    "import pandas as pd\n",
    "import json\n",
    "\n",
    "# # Define the documents to be indexed\n",
    "# documents = [\n",
    "#     {\"_index\": \"test-index\", \"_id\": 1, \"_source\": {\"field1\": \"value1\", \"field2\": \"value2\"}},\n",
    "#     {\"_index\": \"test-index\", \"_id\": 2, \"_source\": {\"field1\": \"value3\", \"field2\": \"value4\"}},\n",
    "#     {\"_index\": \"test-index\", \"_id\": 3, \"_source\": {\"field1\": \"value5\", \"field2\": \"value6\"}}\n",
    "# ]\n",
    "\n",
    "host = '192.168.0.111'\n",
    "port = 9200\n",
    "auth = ('admin', 'Padmasini10') # For testing only. Don't store credentials in code.\n",
    "\n",
    "client = opensearch_client(host, port, auth)\n",
    "\n",
    "BASE_DIR = \"../../../txtai/data\"\n",
    "df = pd.read_parquet(f\"{BASE_DIR}/interns_sample.parquet\")\n",
    "\n",
    "\n",
    "# Load documents into OpenSearch\n",
    "# success, _ = bulk(client, json.loads(df.to_json(orient=\"records\")))\n",
    "\n",
    "# success, _ = opensearch_bulk_sync(client, 'interns', df)\n",
    "success, _ = opensearch_bulk_async(client, 'interns', df)\n",
    "\n",
    "print(f\"Successfully indexed {success} documents.\")\n"
   ]
  },
  {
   "cell_type": "code",
   "execution_count": null,
   "metadata": {},
   "outputs": [],
   "source": []
  }
 ],
 "metadata": {
  "kernelspec": {
   "display_name": "langflow",
   "language": "python",
   "name": "python3"
  },
  "language_info": {
   "codemirror_mode": {
    "name": "ipython",
    "version": 3
   },
   "file_extension": ".py",
   "mimetype": "text/x-python",
   "name": "python",
   "nbconvert_exporter": "python",
   "pygments_lexer": "ipython3",
   "version": "3.11.5"
  }
 },
 "nbformat": 4,
 "nbformat_minor": 2
}
