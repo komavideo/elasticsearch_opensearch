{
 "cells": [
  {
   "cell_type": "markdown",
   "metadata": {},
   "source": [
    "## GeoPoint"
   ]
  },
  {
   "cell_type": "code",
   "execution_count": 1,
   "metadata": {},
   "outputs": [
    {
     "name": "stdout",
     "output_type": "stream",
     "text": [
      "File encoding: utf-8\n",
      "<class 'pandas.core.frame.DataFrame'>\n",
      "RangeIndex: 31120 entries, 0 to 31119\n",
      "Data columns (total 20 columns):\n",
      " #   Column        Non-Null Count  Dtype  \n",
      "---  ------        --------------  -----  \n",
      " 0   CITY          31120 non-null  object \n",
      " 1   city_ascii    31120 non-null  object \n",
      " 2   STATE_CODE    31120 non-null  object \n",
      " 3   state_name    31120 non-null  object \n",
      " 4   county_fips   31120 non-null  int64  \n",
      " 5   county_name   31120 non-null  object \n",
      " 6   lat           31120 non-null  float64\n",
      " 7   lng           31120 non-null  float64\n",
      " 8   population    31120 non-null  int64  \n",
      " 9   density       31120 non-null  float64\n",
      " 10  source        31120 non-null  object \n",
      " 11  military      31120 non-null  bool   \n",
      " 12  incorporated  31120 non-null  bool   \n",
      " 13  timezone      31120 non-null  object \n",
      " 14  ranking       31120 non-null  int64  \n",
      " 15  zips          31118 non-null  object \n",
      " 16  ID            31120 non-null  int64  \n",
      " 17  LATITUDE      31120 non-null  float64\n",
      " 18  LONGITUDE     31120 non-null  float64\n",
      " 19  GeoJSON       31120 non-null  object \n",
      "dtypes: bool(2), float64(5), int64(4), object(9)\n",
      "memory usage: 4.3+ MB\n",
      "       CITY city_ascii STATE_CODE state_name  county_fips county_name  \\\n",
      "0  New York   New York         NY   New York        36081      Queens   \n",
      "\n",
      "       lat      lng  population  density source  military  incorporated  \\\n",
      "0  40.6943 -73.9249    18908608  11080.3  shape     False          True   \n",
      "\n",
      "           timezone  ranking  \\\n",
      "0  America/New_York        1   \n",
      "\n",
      "                                                zips          ID  LATITUDE  \\\n",
      "0  11229 11228 11226 11225 11224 11222 11221 1122...  1840034016   40.6943   \n",
      "\n",
      "   LONGITUDE                                            GeoJSON  \n",
      "0   -73.9249  {'type': 'Point', 'coordinates': [-73.9249, 40...  \n"
     ]
    }
   ],
   "source": [
    "import pandas as pd\n",
    "import chardet\n",
    "\n",
    "# https://simplemaps.com/data/us-cities\n",
    "\n",
    "# Determine the encoding of the file\n",
    "with open(\"../../data/uscities.csv\", 'rb') as f:\n",
    "    result = chardet.detect(f.read())\n",
    "encoding = result['encoding']\n",
    "\n",
    "print(\"File encoding:\", encoding)\n",
    "\n",
    "df = pd.read_csv(\"../../data/uscities.csv\", encoding=encoding)\n",
    "df['LATITUDE'] = df['lat'].astype(float)\n",
    "df['LONGITUDE'] = df['lng'].astype(float)\n",
    "df[\"GeoJSON\"] = df.apply(lambda x: {\"type\": \"Point\", \"coordinates\": [x[\"LONGITUDE\"], x[\"LATITUDE\"]]}, axis=1)\n",
    "RENAME_COLUMNS = {\"city\": \"CITY\", \"state_id\": \"STATE_CODE\",\"id\":\"ID\"}\n",
    "df.rename(columns=RENAME_COLUMNS,inplace=True)\n",
    "NEEDED_COLUMNS = [\"ID\",\"CITY\", \"STATE_CODE\",\"GeoJSON\"]\n",
    "df.info()\n",
    "print(df.head(1))\n",
    "df = df[NEEDED_COLUMNS]"
   ]
  },
  {
   "cell_type": "code",
   "execution_count": 2,
   "metadata": {},
   "outputs": [],
   "source": [
    "from opensearchpy import OpenSearch, helpers  # Import the OpenSearch client and helpers module\n",
    "\n",
    "def bulk_load_documents(os_client: OpenSearch, index_name: str, documents: list) -> None:\n",
    "    \"\"\"\n",
    "    Bulk loads a list of documents into OpenSearch.\n",
    "    Parameters:\n",
    "    - os_client (OpenSearch): The OpenSearch client instance.\n",
    "    - index_name (str): The name of the index where the documents will be inserted.\n",
    "    - documents (list): A list of documents to be inserted into OpenSearch.\n",
    "    Returns:\n",
    "    - None\n",
    "    Raises:\n",
    "    - None\n",
    "    \"\"\"\n",
    "\n",
    "    try: \n",
    "        # Prepare the actions for bulk indexing\n",
    "        actions = [\n",
    "            {\n",
    "                \"_index\": index_name,\n",
    "                \"_source\": doc,\n",
    "                \"_id\": doc[\"ID\"]\n",
    "            }\n",
    "            for doc in documents\n",
    "        ]\n",
    "\n",
    "        # Perform the bulk load\n",
    "        success, errors = helpers.bulk(os_client, actions, \n",
    "                                   index=index_name,\n",
    "                                   raise_on_error=False,\n",
    "                                   raise_on_exception=False)\n",
    "        \n",
    "        print(f\"Successful operations: {success}\")\n",
    "    \n",
    "        if errors:\n",
    "            print(\"Errors encountered:\")\n",
    "            for error in errors:\n",
    "                print(f\"Document ID: {error['index']['_id']}\")\n",
    "                print(f\"Error reason: {error['index']['error']['reason']}\")\n",
    "                print(\"---\")\n",
    "    except Exception as e:\n",
    "        print(f\"An unexpected error occurred: {e}\")\n"
   ]
  },
  {
   "cell_type": "code",
   "execution_count": 3,
   "metadata": {},
   "outputs": [
    {
     "name": "stdout",
     "output_type": "stream",
     "text": [
      "Successful operations: 31120\n"
     ]
    }
   ],
   "source": [
    "from opensearchpy import OpenSearch\n",
    "import json\n",
    "\n",
    "IS_AUTH = False\n",
    "\n",
    "if IS_AUTH:\n",
    "    # Initialize the OpenSearch client\n",
    "    os_client = OpenSearch(\n",
    "        hosts=[{'host': '192.168.0.111', 'port': 9200}],\n",
    "        http_auth=('admin', 'Developer@123'),  # Replace with your credentials\n",
    "        use_ssl=True,\n",
    "        verify_certs=False,\n",
    "        ssl_show_warn=False\n",
    "    )\n",
    "else:\n",
    "    # Initialize the OpenSearch client without authentication\n",
    "    os_client = OpenSearch(\n",
    "        hosts=[{'host': '192.168.0.111', 'port': 9200}],\n",
    "        use_ssl=False,\n",
    "        verify_certs=False,\n",
    "        ssl_assert_hostname = False,\n",
    "        ssl_show_warn=False\n",
    "    )\n",
    "\n",
    "# Define the index name\n",
    "index_name = \"points\"\n",
    "\n",
    "# Define the mapping\n",
    "mapping = {\n",
    "  \"mappings\": {\n",
    "    \"properties\": {\n",
    "      \"GeoJSON\": {\n",
    "        \"type\": \"geo_point\"\n",
    "      }\n",
    "    }\n",
    "  }\n",
    "}\n",
    "\n",
    "# Create the index with the specified mapping\n",
    "os_client.indices.create(index=index_name, body=mapping)\n",
    "\n",
    "# Bulk load documents into OpenSearch\n",
    "bulk_load_documents(os_client, index_name, json.loads(df.to_json(orient=\"records\")))\n"
   ]
  },
  {
   "cell_type": "markdown",
   "metadata": {},
   "source": [
    "## Query Geopoint - geo_bounding_box"
   ]
  },
  {
   "cell_type": "code",
   "execution_count": 4,
   "metadata": {},
   "outputs": [
    {
     "data": {
      "text/plain": [
       "2     {'type': 'Point', 'coordinates': [-87.6866, 41.8375]}\n",
       "46    {'type': 'Point', 'coordinates': [-78.6429, 35.8324]}\n",
       "Name: GeoJSON, dtype: object"
      ]
     },
     "metadata": {},
     "output_type": "display_data"
    },
    {
     "name": "stdout",
     "output_type": "stream",
     "text": [
      "{'GeoJSON': {'top_left': [-87.6866, 41.8375], 'bottom_right': [-78.6429, 35.8324]}}\n",
      "{'ID': 1840001254, 'CITY': 'Pittsburgh', 'STATE_CODE': 'PA', 'GeoJSON': {'type': 'Point', 'coordinates': [-79.9763, 40.4397]}}\n",
      "1.0\n",
      "{'ID': 1840030084, 'CITY': 'Indianapolis', 'STATE_CODE': 'IN', 'GeoJSON': {'type': 'Point', 'coordinates': [-86.1458, 39.7771]}}\n",
      "1.0\n",
      "{'ID': 1840003814, 'CITY': 'Cincinnati', 'STATE_CODE': 'OH', 'GeoJSON': {'type': 'Point', 'coordinates': [-84.506, 39.1413]}}\n",
      "1.0\n",
      "{'ID': 1840000596, 'CITY': 'Cleveland', 'STATE_CODE': 'OH', 'GeoJSON': {'type': 'Point', 'coordinates': [-81.6805, 41.4764]}}\n",
      "1.0\n",
      "{'ID': 1840003760, 'CITY': 'Columbus', 'STATE_CODE': 'OH', 'GeoJSON': {'type': 'Point', 'coordinates': [-82.9855, 39.9862]}}\n",
      "1.0\n",
      "{'ID': 1840036155, 'CITY': 'Nashville', 'STATE_CODE': 'TN', 'GeoJSON': {'type': 'Point', 'coordinates': [-86.7842, 36.1715]}}\n",
      "1.0\n",
      "{'ID': 1840030815, 'CITY': 'Louisville', 'STATE_CODE': 'KY', 'GeoJSON': {'type': 'Point', 'coordinates': [-85.6485, 38.1663]}}\n",
      "1.0\n",
      "{'ID': 1840034249, 'CITY': 'Dayton', 'STATE_CODE': 'OH', 'GeoJSON': {'type': 'Point', 'coordinates': [-84.2003, 39.7805]}}\n",
      "1.0\n",
      "{'ID': 1840014486, 'CITY': 'Knoxville', 'STATE_CODE': 'TN', 'GeoJSON': {'type': 'Point', 'coordinates': [-83.9496, 35.9692]}}\n",
      "1.0\n",
      "{'ID': 1840000791, 'CITY': 'Akron', 'STATE_CODE': 'OH', 'GeoJSON': {'type': 'Point', 'coordinates': [-81.5219, 41.0798]}}\n",
      "1.0\n"
     ]
    }
   ],
   "source": [
    "from IPython.display import display\n",
    "# Raleigh to Charlotte geo-bounding box\n",
    "# BEGIN: Get rows for Raleigh and Charlotte in NC\n",
    "chicago_raleigh_df = df[\n",
    "  (df['CITY'] == 'Chicago') & (df['STATE_CODE'] == 'IL') |\n",
    "  (df['CITY'] == 'Raleigh') & (df['STATE_CODE'] == 'NC')\n",
    "]\n",
    "\n",
    "# Set display options to show full row contents\n",
    "pd.set_option('display.max_colwidth', None)\n",
    "display(chicago_raleigh_df[\"GeoJSON\"])\n",
    "# Create a geo_bounding_box for Elasticsearch search\n",
    "geo_bounding_box = {\n",
    "    \"GeoJSON\": {\n",
    "    \"top_left\": chicago_raleigh_df[\"GeoJSON\"].iloc[0][\"coordinates\"],\n",
    "    \"bottom_right\": chicago_raleigh_df[\"GeoJSON\"].iloc[1][\"coordinates\"]\n",
    "}\n",
    "}\n",
    "\n",
    "print(geo_bounding_box)\n",
    "\n",
    "QUERY =  {\n",
    "  \"query\": {\n",
    "    \"bool\": {\n",
    "      \"must\": {\n",
    "        \"match_all\": {}\n",
    "      },\n",
    "      \"filter\": {\n",
    "        \"geo_bounding_box\": geo_bounding_box\n",
    "      }\n",
    "    }\n",
    "  }\n",
    "}\n",
    "\n",
    "search_results = os_client.search(index=\"points\", body=QUERY, error_trace=True)\n",
    "\n",
    "# Process search results\n",
    "for hit in search_results[\"hits\"][\"hits\"]:\n",
    "    print(hit[\"_source\"])\n",
    "    print(hit[\"_score\"])\n"
   ]
  },
  {
   "cell_type": "markdown",
   "metadata": {},
   "source": [
    "## Geo distance query\n",
    "- Cincinatti, OH - Find all within 200 miles"
   ]
  },
  {
   "cell_type": "code",
   "execution_count": 5,
   "metadata": {},
   "outputs": [
    {
     "data": {
      "text/plain": [
       "[-77.4756, 37.5295]"
      ]
     },
     "execution_count": 5,
     "metadata": {},
     "output_type": "execute_result"
    }
   ],
   "source": [
    "df[\n",
    "  (df['CITY'] == 'Richmond') & (df['STATE_CODE'] == 'VA')\n",
    "].iloc[0][\"GeoJSON\"][\"coordinates\"]"
   ]
  },
  {
   "cell_type": "code",
   "execution_count": 6,
   "metadata": {},
   "outputs": [
    {
     "data": {
      "text/plain": [
       "47    {'type': 'Point', 'coordinates': [-77.4756, 37.5295]}\n",
       "Name: GeoJSON, dtype: object"
      ]
     },
     "metadata": {},
     "output_type": "display_data"
    },
    {
     "name": "stdout",
     "output_type": "stream",
     "text": [
      "{'distance': '200mi', 'GeoJSON': [-77.4756, 37.5295]}\n",
      "{'ID': 1840006060, 'CITY': 'Washington', 'STATE_CODE': 'DC', 'GeoJSON': {'type': 'Point', 'coordinates': [-77.0163, 38.9047]}}\n",
      "1.0\n",
      "{'ID': 1840001592, 'CITY': 'Baltimore', 'STATE_CODE': 'MD', 'GeoJSON': {'type': 'Point', 'coordinates': [-76.6144, 39.3051]}}\n",
      "1.0\n",
      "{'ID': 1840003871, 'CITY': 'Virginia Beach', 'STATE_CODE': 'VA', 'GeoJSON': {'type': 'Point', 'coordinates': [-76.0435, 36.7335]}}\n",
      "1.0\n",
      "{'ID': 1840014497, 'CITY': 'Raleigh', 'STATE_CODE': 'NC', 'GeoJSON': {'type': 'Point', 'coordinates': [-78.6429, 35.8324]}}\n",
      "1.0\n",
      "{'ID': 1840001698, 'CITY': 'Richmond', 'STATE_CODE': 'VA', 'GeoJSON': {'type': 'Point', 'coordinates': [-77.4756, 37.5295]}}\n",
      "1.0\n",
      "{'ID': 1840001288, 'CITY': 'Harrisburg', 'STATE_CODE': 'PA', 'GeoJSON': {'type': 'Point', 'coordinates': [-76.8843, 40.2752]}}\n",
      "1.0\n",
      "{'ID': 1840015324, 'CITY': 'Winston-Salem', 'STATE_CODE': 'NC', 'GeoJSON': {'type': 'Point', 'coordinates': [-80.261, 36.1029]}}\n",
      "1.0\n",
      "{'ID': 1840003718, 'CITY': 'Lancaster', 'STATE_CODE': 'PA', 'GeoJSON': {'type': 'Point', 'coordinates': [-76.3012, 40.042]}}\n",
      "1.0\n",
      "{'ID': 1840013364, 'CITY': 'Durham', 'STATE_CODE': 'NC', 'GeoJSON': {'type': 'Point', 'coordinates': [-78.9022, 35.9792]}}\n",
      "1.0\n",
      "{'ID': 1840013356, 'CITY': 'Greensboro', 'STATE_CODE': 'NC', 'GeoJSON': {'type': 'Point', 'coordinates': [-79.8271, 36.0956]}}\n",
      "1.0\n"
     ]
    }
   ],
   "source": [
    "from IPython.display import display\n",
    "# Raleigh to Charlotte geo-bounding box\n",
    "# BEGIN: Get rows for Raleigh and Charlotte in NC\n",
    "richmond_df = df[\n",
    "  (df['CITY'] == 'Richmond') & (df['STATE_CODE'] == 'VA')\n",
    "]\n",
    "\n",
    "# Set display options to show full row contents\n",
    "pd.set_option('display.max_colwidth', None)\n",
    "display(richmond_df[\"GeoJSON\"])\n",
    "# Create a geo_bounding_box for Elasticsearch search\n",
    "geo_distance = {\n",
    "    \"distance\": \"200mi\",\n",
    "    \"GeoJSON\": richmond_df.iloc[0][\"GeoJSON\"][\"coordinates\"]\n",
    "}\n",
    "\n",
    "print(geo_distance)\n",
    "\n",
    "QUERY =  {\n",
    "  \"query\": {\n",
    "    \"bool\": {\n",
    "      \"must\": {\n",
    "        \"match_all\": {}\n",
    "      },\n",
    "      \"filter\": {\n",
    "        \"geo_distance\": geo_distance\n",
    "      }\n",
    "    }\n",
    "  }\n",
    "}\n",
    "\n",
    "search_results = os_client.search(index=\"points\", body=QUERY, error_trace=True)\n",
    "\n",
    "# Process search results\n",
    "for hit in search_results[\"hits\"][\"hits\"]:\n",
    "    print(hit[\"_source\"])\n",
    "    print(hit[\"_score\"])\n"
   ]
  },
  {
   "cell_type": "markdown",
   "metadata": {},
   "source": [
    "## GeoShape: Make a polygon"
   ]
  },
  {
   "cell_type": "code",
   "execution_count": 206,
   "metadata": {},
   "outputs": [
    {
     "data": {
      "text/html": [
       "<div>\n",
       "<style scoped>\n",
       "    .dataframe tbody tr th:only-of-type {\n",
       "        vertical-align: middle;\n",
       "    }\n",
       "\n",
       "    .dataframe tbody tr th {\n",
       "        vertical-align: top;\n",
       "    }\n",
       "\n",
       "    .dataframe thead th {\n",
       "        text-align: right;\n",
       "    }\n",
       "</style>\n",
       "<table border=\"1\" class=\"dataframe\">\n",
       "  <thead>\n",
       "    <tr style=\"text-align: right;\">\n",
       "      <th></th>\n",
       "      <th>ID</th>\n",
       "      <th>CITY</th>\n",
       "      <th>STATE_CODE</th>\n",
       "      <th>GeoJSON</th>\n",
       "    </tr>\n",
       "  </thead>\n",
       "  <tbody>\n",
       "    <tr>\n",
       "      <th>15</th>\n",
       "      <td>1840007830</td>\n",
       "      <td>Minneapolis</td>\n",
       "      <td>MN</td>\n",
       "      <td>{'type': 'Point', 'coordinates': [-93.2678, 44.9635]}</td>\n",
       "    </tr>\n",
       "    <tr>\n",
       "      <th>10936</th>\n",
       "      <td>1840003824</td>\n",
       "      <td>Minneapolis</td>\n",
       "      <td>KS</td>\n",
       "      <td>{'type': 'Point', 'coordinates': [-97.6997, 39.1243]}</td>\n",
       "    </tr>\n",
       "  </tbody>\n",
       "</table>\n",
       "</div>"
      ],
      "text/plain": [
       "               ID         CITY STATE_CODE  \\\n",
       "15     1840007830  Minneapolis         MN   \n",
       "10936  1840003824  Minneapolis         KS   \n",
       "\n",
       "                                                     GeoJSON  \n",
       "15     {'type': 'Point', 'coordinates': [-93.2678, 44.9635]}  \n",
       "10936  {'type': 'Point', 'coordinates': [-97.6997, 39.1243]}  "
      ]
     },
     "execution_count": 206,
     "metadata": {},
     "output_type": "execute_result"
    }
   ],
   "source": [
    "# df[df[\"CITY\"].str.contains(\"minneapolis\",case=False)]"
   ]
  },
  {
   "cell_type": "code",
   "execution_count": 7,
   "metadata": {},
   "outputs": [
    {
     "data": {
      "text/html": [
       "<div>\n",
       "<style scoped>\n",
       "    .dataframe tbody tr th:only-of-type {\n",
       "        vertical-align: middle;\n",
       "    }\n",
       "\n",
       "    .dataframe tbody tr th {\n",
       "        vertical-align: top;\n",
       "    }\n",
       "\n",
       "    .dataframe thead th {\n",
       "        text-align: right;\n",
       "    }\n",
       "</style>\n",
       "<table border=\"1\" class=\"dataframe\">\n",
       "  <thead>\n",
       "    <tr style=\"text-align: right;\">\n",
       "      <th></th>\n",
       "      <th>ID</th>\n",
       "      <th>city_states</th>\n",
       "      <th>geoshape_geojson</th>\n",
       "    </tr>\n",
       "  </thead>\n",
       "  <tbody>\n",
       "    <tr>\n",
       "      <th>0</th>\n",
       "      <td>0</td>\n",
       "      <td>{'Chicago': 'IL', 'Buffalo': 'NY', 'Raleigh': 'NC', 'Cincinatti': 'OH'}</td>\n",
       "      <td>{'type': 'polygon', 'coordinates': [[[-87.6866, 41.8375], [-78.6429, 35.8324], [-78.8487, 42.9018], [-87.6866, 41.8375]]]}</td>\n",
       "    </tr>\n",
       "  </tbody>\n",
       "</table>\n",
       "</div>"
      ],
      "text/plain": [
       "   ID  \\\n",
       "0   0   \n",
       "\n",
       "                                                               city_states  \\\n",
       "0  {'Chicago': 'IL', 'Buffalo': 'NY', 'Raleigh': 'NC', 'Cincinatti': 'OH'}   \n",
       "\n",
       "                                                                                                             geoshape_geojson  \n",
       "0  {'type': 'polygon', 'coordinates': [[[-87.6866, 41.8375], [-78.6429, 35.8324], [-78.8487, 42.9018], [-87.6866, 41.8375]]]}  "
      ]
     },
     "execution_count": 7,
     "metadata": {},
     "output_type": "execute_result"
    }
   ],
   "source": [
    "def polygon_coordinates(df: pd.DataFrame, cities_states: dict) -> list:\n",
    "    \"\"\"\n",
    "    Extracts the coordinates for a geo_shape polygon from the specified cities and their corresponding states.\n",
    "    Parameters:\n",
    "    - df (pd.DataFrame): The DataFrame containing the data.\n",
    "    - cities_states (dict): A dictionary with city names as keys and their corresponding states as values.\n",
    "    Returns:\n",
    "    - dict: A dictionary with the coordinates for the geo_shape polygon.\n",
    "    \"\"\"\n",
    "    # Extract rows for the specified cities and their corresponding states\n",
    "    polygon_df = df[\n",
    "        df.apply(lambda row: row['CITY'] in cities_states and row['STATE_CODE'] == cities_states[row['CITY']], axis=1)\n",
    "    ]\n",
    "\n",
    "    # Extract coordinates for the geo_shape polygon\n",
    "    coordinates = [row['GeoJSON']['coordinates'] for _, row in polygon_df.iterrows()]\n",
    "    coordinates.append(coordinates[0])  # Close the polygon\n",
    "    return [[coordinates]]\n",
    "\n",
    "# BEGIN: Create geo_shape polygon for specified cities\n",
    "cities_states = {\n",
    "    'Chicago': 'IL',\n",
    "    'Buffalo': 'NY',\n",
    "    'Raleigh': 'NC',\n",
    "    'Cincinatti': 'OH',\n",
    "}\n",
    "\n",
    "df_geo_shape = pd.DataFrame(columns=[\"city_states\", \"polygon_coordinates\", \"geo_shape\"])\n",
    "df_geo_shape[\"city_states\"] = [cities_states] # direct assignment of dict is not allowed. Instead store as an array\n",
    "df_geo_shape[\"polygon_coordinates\"] = polygon_coordinates(df, cities_states)\n",
    "df_geo_shape[\"geoshape_geojson\"] = df_geo_shape.apply(lambda x: {\"type\": \"polygon\", \"coordinates\": x[\"polygon_coordinates\"]}, axis=1)\n",
    "df_geo_shape[\"ID\"] = df_geo_shape.index\n",
    "df_geo_shape = df_geo_shape[[\"ID\",\"city_states\", \"geoshape_geojson\"]]\n",
    "df_geo_shape\n"
   ]
  },
  {
   "cell_type": "code",
   "execution_count": 197,
   "metadata": {},
   "outputs": [
    {
     "data": {
      "text/plain": [
       "'[{\"ID\":0,\"city_states\":{\"Chicago\":\"IL\",\"Buffalo\":\"NY\",\"Raleigh\":\"NC\",\"Cincinatti\":\"OH\"},\"mygeoshape\":{\"type\":\"polygon\",\"coordinates\":[[[-87.6866,41.8375],[-78.6429,35.8324],[-78.8487,42.9018],[-87.6866,41.8375]]]}}]'"
      ]
     },
     "execution_count": 197,
     "metadata": {},
     "output_type": "execute_result"
    }
   ],
   "source": [
    "# df_geo_shape.to_json(orient=\"records\")"
   ]
  },
  {
   "cell_type": "markdown",
   "metadata": {},
   "source": [
    "# Load my_geoshapes"
   ]
  },
  {
   "cell_type": "code",
   "execution_count": 8,
   "metadata": {},
   "outputs": [
    {
     "name": "stdout",
     "output_type": "stream",
     "text": [
      "Successful operations: 1\n"
     ]
    }
   ],
   "source": [
    "from opensearchpy import OpenSearch\n",
    "import json\n",
    "\n",
    "# Initialize the OpenSearch client\n",
    "os_client = OpenSearch(\n",
    "  hosts=[{'host': '192.168.0.111', 'port': 9200}],\n",
    "  use_ssl=False,\n",
    "  verify_certs=False,\n",
    "  ssl_assert_hostname=False,\n",
    "  ssl_show_warn=False\n",
    ")\n",
    "\n",
    "# Define the index name\n",
    "index_name = \"locations\"\n",
    "\n",
    "# Define the mapping\n",
    "mapping = {\n",
    "  \"mappings\": {\n",
    "  \"properties\": {\n",
    "    \"geoshape_geojson\": {\n",
    "    \"type\": \"geo_shape\"\n",
    "    }\n",
    "  }\n",
    "  }\n",
    "}\n",
    "\n",
    "# Create the index with the specified mapping\n",
    "os_client.indices.create(index=index_name, body=mapping)\n",
    "\n",
    "# Bulk load documents into OpenSearch\n",
    "bulk_load_documents(os_client, index_name, json.loads(df_geo_shape.to_json(orient=\"records\")))\n"
   ]
  },
  {
   "cell_type": "code",
   "execution_count": 9,
   "metadata": {},
   "outputs": [
    {
     "data": {
      "text/plain": [
       "15     {'type': 'Point', 'coordinates': [-93.2678, 44.9635]}\n",
       "186     {'type': 'Point', 'coordinates': [-76.259, 36.8945]}\n",
       "Name: GeoJSON, dtype: object"
      ]
     },
     "metadata": {},
     "output_type": "display_data"
    },
    {
     "name": "stdout",
     "output_type": "stream",
     "text": [
      "{'geoshape_geojson': {'top_left': [-93.2678, 44.9635], 'bottom_right': [-76.259, 36.8945]}}\n",
      "{'ID': 0, 'city_states': {'Chicago': 'IL', 'Buffalo': 'NY', 'Raleigh': 'NC', 'Cincinatti': 'OH'}, 'geoshape_geojson': {'type': 'polygon', 'coordinates': [[[-87.6866, 41.8375], [-78.6429, 35.8324], [-78.8487, 42.9018], [-87.6866, 41.8375]]]}}\n",
      "1.0\n"
     ]
    }
   ],
   "source": [
    "from IPython.display import display\n",
    "# Raleigh to Charlotte geo-bounding box\n",
    "# BEGIN: Get rows for Raleigh and Charlotte in NC\n",
    "minneapolis_norfolk_df = df[\n",
    "  (df['CITY'] == 'Minneapolis') & (df['STATE_CODE'] == 'MN') |\n",
    "  (df['CITY'] == 'Norfolk') & (df['STATE_CODE'] == 'VA')\n",
    "]\n",
    "\n",
    "# Set display options to show full row contents\n",
    "pd.set_option('display.max_colwidth', None)\n",
    "display(minneapolis_norfolk_df[\"GeoJSON\"])\n",
    "# Create a geo_bounding_box for Elasticsearch search\n",
    "geo_bounding_box = {\n",
    "    \"geoshape_geojson\": {\n",
    "    \"top_left\": minneapolis_norfolk_df[\"GeoJSON\"].iloc[0][\"coordinates\"],\n",
    "    \"bottom_right\": minneapolis_norfolk_df[\"GeoJSON\"].iloc[1][\"coordinates\"]\n",
    "}\n",
    "}\n",
    "\n",
    "print(geo_bounding_box)\n",
    "\n",
    "QUERY =  {\n",
    "  \"query\": {\n",
    "    \"bool\": {\n",
    "      \"must\": {\n",
    "        \"match_all\": {}\n",
    "      },\n",
    "      \"filter\": {\n",
    "        \"geo_bounding_box\": geo_bounding_box\n",
    "      }\n",
    "    }\n",
    "  }\n",
    "}\n",
    "\n",
    "search_results = os_client.search(index=\"locations\", body=QUERY, error_trace=True)\n",
    "\n",
    "# Process search results\n",
    "for hit in search_results[\"hits\"][\"hits\"]:\n",
    "    print(hit[\"_source\"])\n",
    "    print(hit[\"_score\"])\n"
   ]
  },
  {
   "cell_type": "markdown",
   "metadata": {},
   "source": [
    "\n",
    "## Geo distance - closes geo_shapes"
   ]
  },
  {
   "cell_type": "code",
   "execution_count": 10,
   "metadata": {},
   "outputs": [
    {
     "data": {
      "text/plain": [
       "47    {'type': 'Point', 'coordinates': [-77.4756, 37.5295]}\n",
       "Name: GeoJSON, dtype: object"
      ]
     },
     "metadata": {},
     "output_type": "display_data"
    },
    {
     "name": "stdout",
     "output_type": "stream",
     "text": [
      "{'distance': '200mi', 'geoshape_geojson': [-77.4756, 37.5295]}\n",
      "{'ID': 0, 'city_states': {'Chicago': 'IL', 'Buffalo': 'NY', 'Raleigh': 'NC', 'Cincinatti': 'OH'}, 'geoshape_geojson': {'type': 'polygon', 'coordinates': [[[-87.6866, 41.8375], [-78.6429, 35.8324], [-78.8487, 42.9018], [-87.6866, 41.8375]]]}}\n",
      "1.0\n"
     ]
    }
   ],
   "source": [
    "from IPython.display import display\n",
    "# Raleigh to Charlotte geo-bounding box\n",
    "# BEGIN: Get rows for Raleigh and Charlotte in NC\n",
    "richmond_df = df[\n",
    "  (df['CITY'] == 'Richmond') & (df['STATE_CODE'] == 'VA')\n",
    "]\n",
    "\n",
    "# Set display options to show full row contents\n",
    "pd.set_option('display.max_colwidth', None)\n",
    "display(richmond_df[\"GeoJSON\"])\n",
    "# Create a geo_bounding_box for Elasticsearch search\n",
    "geo_distance = {\n",
    "    \"distance\": \"200mi\",\n",
    "    \"geoshape_geojson\": richmond_df.iloc[0][\"GeoJSON\"][\"coordinates\"]\n",
    "}\n",
    "\n",
    "print(geo_distance)\n",
    "\n",
    "QUERY =  {\n",
    "  \"query\": {\n",
    "    \"bool\": {\n",
    "      \"must\": {\n",
    "        \"match_all\": {}\n",
    "      },\n",
    "      \"filter\": {\n",
    "        \"geo_distance\": geo_distance\n",
    "      }\n",
    "    }\n",
    "  }\n",
    "}\n",
    "\n",
    "search_results = os_client.search(index=\"locations\", body=QUERY, error_trace=True)\n",
    "\n",
    "# Process search results\n",
    "for hit in search_results[\"hits\"][\"hits\"]:\n",
    "    print(hit[\"_source\"])\n",
    "    print(hit[\"_score\"])\n"
   ]
  }
 ],
 "metadata": {
  "kernelspec": {
   "display_name": "langflow",
   "language": "python",
   "name": "python3"
  },
  "language_info": {
   "codemirror_mode": {
    "name": "ipython",
    "version": 3
   },
   "file_extension": ".py",
   "mimetype": "text/x-python",
   "name": "python",
   "nbconvert_exporter": "python",
   "pygments_lexer": "ipython3",
   "version": "3.8.10"
  }
 },
 "nbformat": 4,
 "nbformat_minor": 2
}
