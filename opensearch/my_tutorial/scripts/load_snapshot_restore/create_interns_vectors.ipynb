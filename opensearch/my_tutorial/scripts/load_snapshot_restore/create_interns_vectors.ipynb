{
 "cells": [
  {
   "cell_type": "code",
   "execution_count": 8,
   "metadata": {},
   "outputs": [
    {
     "data": {
      "text/html": [
       "<div>\n",
       "<style scoped>\n",
       "    .dataframe tbody tr th:only-of-type {\n",
       "        vertical-align: middle;\n",
       "    }\n",
       "\n",
       "    .dataframe tbody tr th {\n",
       "        vertical-align: top;\n",
       "    }\n",
       "\n",
       "    .dataframe thead th {\n",
       "        text-align: right;\n",
       "    }\n",
       "</style>\n",
       "<table border=\"1\" class=\"dataframe\">\n",
       "  <thead>\n",
       "    <tr style=\"text-align: right;\">\n",
       "      <th></th>\n",
       "      <th>COMPANY</th>\n",
       "      <th>JOB_TITLE</th>\n",
       "      <th>LOCATION</th>\n",
       "      <th>SCRAPE_DATE</th>\n",
       "      <th>TEAM</th>\n",
       "      <th>COMMITTMENT</th>\n",
       "      <th>JOB_CONTENT_TEXT</th>\n",
       "    </tr>\n",
       "  </thead>\n",
       "  <tbody>\n",
       "    <tr>\n",
       "      <th>0</th>\n",
       "      <td>HYPEMASTERS</td>\n",
       "      <td>LIVE OPS GAME DESIGNER</td>\n",
       "      <td>London, England, United Kingdom</td>\n",
       "      <td>2023-12-09</td>\n",
       "      <td>None</td>\n",
       "      <td>None</td>\n",
       "      <td>Description\\n\\nHypemasters is a fast-growing g...</td>\n",
       "    </tr>\n",
       "  </tbody>\n",
       "</table>\n",
       "</div>"
      ],
      "text/plain": [
       "       COMPANY               JOB_TITLE                         LOCATION  \\\n",
       "0  HYPEMASTERS  LIVE OPS GAME DESIGNER  London, England, United Kingdom   \n",
       "\n",
       "  SCRAPE_DATE  TEAM COMMITTMENT  \\\n",
       "0  2023-12-09  None        None   \n",
       "\n",
       "                                    JOB_CONTENT_TEXT  \n",
       "0  Description\\n\\nHypemasters is a fast-growing g...  "
      ]
     },
     "execution_count": 8,
     "metadata": {},
     "output_type": "execute_result"
    }
   ],
   "source": [
    "from opensearchpy.helpers import bulk\n",
    "from opensearchpy import OpenSearch\n",
    "import sys\n",
    "sys.path.append('../')\n",
    "from helpers import opensearch_client, return_index_mapping_with_vectors, opensearch_bulk_async_with_embeddings\n",
    "import pandas as pd\n",
    "import json\n",
    "\n",
    "IS_AUTH = False\n",
    "\n",
    "if IS_AUTH:\n",
    "    # Initialize the OpenSearch client\n",
    "    client = OpenSearch(\n",
    "        hosts=[{'host': '192.168.0.111', 'port': 9200}],\n",
    "        http_auth=('admin', 'Padmasini10'),  # Replace with your credentials\n",
    "        use_ssl=True,\n",
    "        verify_certs=False,\n",
    "        ssl_show_warn=False\n",
    "    )\n",
    "else:\n",
    "    # Initialize the OpenSearch client without authentication\n",
    "    client = OpenSearch(\n",
    "        hosts=[{'host': '192.168.0.111', 'port': 9200}],\n",
    "        use_ssl=False,\n",
    "        verify_certs=False,\n",
    "        ssl_assert_hostname = False,\n",
    "        ssl_show_warn=False\n",
    "    )\n",
    "\n",
    "BASE_DIR = \"../../data\"\n",
    "df = pd.read_parquet(f\"{BASE_DIR}/interns_sample.parquet\")\n",
    "\n",
    "vectorize_fields = ['COMPANY', 'JOB_TITLE', 'JOB_CONTENT_TEXT']\n",
    "embedding_source_destination_map = {field: f\"{field}_EMBEDDING\" for field in vectorize_fields}\n",
    "\n",
    "mappings = return_index_mapping_with_vectors(vectorize_fields=vectorize_fields)\n",
    "\n",
    "# Print the mappings to verify\n",
    "# print(json.dumps(mappings, indent=2))\n",
    "\n",
    "df.head(1)"
   ]
  },
  {
   "cell_type": "code",
   "execution_count": 9,
   "metadata": {},
   "outputs": [
    {
     "name": "stdout",
     "output_type": "stream",
     "text": [
      "Creating index interns with mapping {'settings': {'index': {'knn': True}}, 'mappings': {'properties': {'COMPANY_EMBEDDING': {'type': 'knn_vector', 'dimension': 768, 'method': {'name': 'hnsw', 'space_type': 'l2', 'engine': 'lucene'}}, 'JOB_TITLE_EMBEDDING': {'type': 'knn_vector', 'dimension': 768, 'method': {'name': 'hnsw', 'space_type': 'l2', 'engine': 'lucene'}}, 'JOB_CONTENT_TEXT_EMBEDDING': {'type': 'knn_vector', 'dimension': 768, 'method': {'name': 'hnsw', 'space_type': 'l2', 'engine': 'lucene'}}}}}\n",
      "Adding embeddings from COMPANY to COMPANY_EMBEDDING\n"
     ]
    },
    {
     "name": "stderr",
     "output_type": "stream",
     "text": [
      "/home/ubuntu/git-projects/personal/github.com/elasticsearch_opensearch/.venv/lib/python3.8/site-packages/transformers/tokenization_utils_base.py:1601: FutureWarning: `clean_up_tokenization_spaces` was not set. It will be set to `True` by default. This behavior will be depracted in transformers v4.45, and will be then set to `False` by default. For more details check this issue: https://github.com/huggingface/transformers/issues/31884\n",
      "  warnings.warn(\n",
      "/home/ubuntu/git-projects/personal/github.com/elasticsearch_opensearch/opensearch/my_tutorial/scripts/load_restore_data/../helpers.py:71: SettingWithCopyWarning: \n",
      "A value is trying to be set on a copy of a slice from a DataFrame.\n",
      "Try using .loc[row_indexer,col_indexer] = value instead\n",
      "\n",
      "See the caveats in the documentation: https://pandas.pydata.org/pandas-docs/stable/user_guide/indexing.html#returning-a-view-versus-a-copy\n",
      "  df.loc[:, destination] = df[source].apply(lambda x: model.encode(x).tolist())\n"
     ]
    },
    {
     "name": "stdout",
     "output_type": "stream",
     "text": [
      "Adding embeddings from JOB_TITLE to JOB_TITLE_EMBEDDING\n"
     ]
    },
    {
     "name": "stderr",
     "output_type": "stream",
     "text": [
      "/home/ubuntu/git-projects/personal/github.com/elasticsearch_opensearch/.venv/lib/python3.8/site-packages/transformers/tokenization_utils_base.py:1601: FutureWarning: `clean_up_tokenization_spaces` was not set. It will be set to `True` by default. This behavior will be depracted in transformers v4.45, and will be then set to `False` by default. For more details check this issue: https://github.com/huggingface/transformers/issues/31884\n",
      "  warnings.warn(\n",
      "/home/ubuntu/git-projects/personal/github.com/elasticsearch_opensearch/opensearch/my_tutorial/scripts/load_restore_data/../helpers.py:71: SettingWithCopyWarning: \n",
      "A value is trying to be set on a copy of a slice from a DataFrame.\n",
      "Try using .loc[row_indexer,col_indexer] = value instead\n",
      "\n",
      "See the caveats in the documentation: https://pandas.pydata.org/pandas-docs/stable/user_guide/indexing.html#returning-a-view-versus-a-copy\n",
      "  df.loc[:, destination] = df[source].apply(lambda x: model.encode(x).tolist())\n"
     ]
    },
    {
     "name": "stdout",
     "output_type": "stream",
     "text": [
      "Adding embeddings from JOB_CONTENT_TEXT to JOB_CONTENT_TEXT_EMBEDDING\n"
     ]
    },
    {
     "name": "stderr",
     "output_type": "stream",
     "text": [
      "/home/ubuntu/git-projects/personal/github.com/elasticsearch_opensearch/.venv/lib/python3.8/site-packages/transformers/tokenization_utils_base.py:1601: FutureWarning: `clean_up_tokenization_spaces` was not set. It will be set to `True` by default. This behavior will be depracted in transformers v4.45, and will be then set to `False` by default. For more details check this issue: https://github.com/huggingface/transformers/issues/31884\n",
      "  warnings.warn(\n",
      "/home/ubuntu/git-projects/personal/github.com/elasticsearch_opensearch/opensearch/my_tutorial/scripts/load_restore_data/../helpers.py:71: SettingWithCopyWarning: \n",
      "A value is trying to be set on a copy of a slice from a DataFrame.\n",
      "Try using .loc[row_indexer,col_indexer] = value instead\n",
      "\n",
      "See the caveats in the documentation: https://pandas.pydata.org/pandas-docs/stable/user_guide/indexing.html#returning-a-view-versus-a-copy\n",
      "  df.loc[:, destination] = df[source].apply(lambda x: model.encode(x).tolist())\n"
     ]
    }
   ],
   "source": [
    "success, _ = opensearch_bulk_async_with_embeddings(client, index_name=\"interns\", delete_index=True, df=df.iloc[0:5], mapping=mappings, embedding_model=\"msmarco-distilbert-base-v2\", embedding_source_destination_map=embedding_source_destination_map)\n"
   ]
  },
  {
   "cell_type": "code",
   "execution_count": null,
   "metadata": {},
   "outputs": [],
   "source": []
  }
 ],
 "metadata": {
  "kernelspec": {
   "display_name": ".venv",
   "language": "python",
   "name": "python3"
  },
  "language_info": {
   "codemirror_mode": {
    "name": "ipython",
    "version": 3
   },
   "file_extension": ".py",
   "mimetype": "text/x-python",
   "name": "python",
   "nbconvert_exporter": "python",
   "pygments_lexer": "ipython3",
   "version": "3.8.10"
  }
 },
 "nbformat": 4,
 "nbformat_minor": 2
}
