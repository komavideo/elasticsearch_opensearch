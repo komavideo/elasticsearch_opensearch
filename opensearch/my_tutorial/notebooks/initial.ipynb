{
 "cells": [
  {
   "cell_type": "code",
   "execution_count": 5,
   "metadata": {},
   "outputs": [
    {
     "name": "stdout",
     "output_type": "stream",
     "text": [
      "Welcome to opensearch 2.16.0!\n",
      "Successfully indexed 3972 documents.\n"
     ]
    }
   ],
   "source": [
    "from opensearchpy.helpers import bulk\n",
    "import sys\n",
    "sys.path.append('../scripts')\n",
    "from helpers import opensearch_client, opensearch_bulk_sync, opensearch_bulk_async\n",
    "import pandas as pd\n",
    "import json\n",
    "\n",
    "\n",
    "# # Define the documents to be indexed\n",
    "# documents = [\n",
    "#     {\"_index\": \"test-index\", \"_id\": 1, \"_source\": {\"field1\": \"value1\", \"field2\": \"value2\"}},\n",
    "#     {\"_index\": \"test-index\", \"_id\": 2, \"_source\": {\"field1\": \"value3\", \"field2\": \"value4\"}},\n",
    "#     {\"_index\": \"test-index\", \"_id\": 3, \"_source\": {\"field1\": \"value5\", \"field2\": \"value6\"}}\n",
    "# ]\n",
    "\n",
    "host = '192.168.0.111'\n",
    "port = 9200\n",
    "auth = ('admin', 'Padmasini10') # For testing only. Don't store credentials in code.\n",
    "\n",
    "client = opensearch_client(host, port, auth=None, ssl=False)\n",
    "\n",
    "BASE_DIR = \"../data\"\n",
    "df = pd.read_parquet(f\"{BASE_DIR}/interns_sample.parquet\")\n",
    "\n",
    "\n",
    "# Load documents into OpenSearch\n",
    "# success, _ = bulk(client, json.loads(df.to_json(orient=\"records\")))\n",
    "\n",
    "# success, _ = opensearch_bulk_sync(client, 'interns', df)\n",
    "success, _ = opensearch_bulk_async(client, 'interns', df)\n",
    "\n",
    "print(f\"Successfully indexed {success} documents.\")\n"
   ]
  },
  {
   "cell_type": "markdown",
   "metadata": {},
   "source": [
    "\n",
    "## Write to json file"
   ]
  },
  {
   "cell_type": "code",
   "execution_count": 9,
   "metadata": {},
   "outputs": [
    {
     "name": "stdout",
     "output_type": "stream",
     "text": [
      "{\n",
      "  \"_index\": \"interns\",\n",
      "  \"_id\": 0,\n",
      "  \"_source\": {\n",
      "    \"COMPANY\": \"HYPEMASTERS\",\n",
      "    \"JOB_TITLE\": \"LIVE OPS GAME DESIGNER\",\n",
      "    \"LOCATION\": \"London, England, United Kingdom\",\n",
      "    \"SCRAPE_DATE\": \"2023-12-09\",\n",
      "    \"TEAM\": null,\n",
      "    \"COMMITTMENT\": null,\n",
      "    \"JOB_CONTENT_TEXT\": \"Description\\n\\nHypemasters is a fast-growing gaming studio that specialises in developing and publishing unique and innovative video games. With a talented team of developers, designers, and marketers, we are committed to creating the most engaging and immersive gaming experiences for players worldwide. As we continue to expand, we are looking for a Live Ops Game Designer to join our team.\\n\\nAs a Live Ops Game Designer, you will play a crucial role in creating and managing live content, events, and features to drive engagement and monetisation within our games. You'll work closely with various teams, including game design, analytics, production, and marketing, to ensure the continuous success and growth of our live games.\\nRequirements\\nDesign, plan, and execute live events, in-game activities, and promotions to enhance player engagement and retention.\\nAnalyse player behaviour and game metrics to identify trends and opportunities for improving live content and features.\\nCollaborate with the game design team to implement new features, updates, and optimisations for live game environments.\\nCreate and maintain a live content calendar, ensuring a steady flow of engaging activities for players.\\nWork closely with the game design team to incorporate live events and features that drive in-game revenue while maintaining a positive player experience.\\nParticipate in brainstorming sessions and contribute innovative ideas for enhancing the live game experience.\\n\\nRequirements:\\n\\n3 years experience in game design, particularly in a live operations capacity within the gaming industry.\\nStrong understanding of free-to-play game mechanics, player behaviour, and monetisation strategies.\\nProficiency in data analysis and experience using analytics tools to derive actionable insights.\\nExcellent communication skills and the ability to collaborate effectively with different teams.\\nCreative thinking and a passion for designing engaging gameplay experiences for players.\\nAbility to adapt quickly to changing priorities and thrive in a fast-paced, dynamic environment.\\nBenefits\\nStock options - own part of the company and benefit from its growth\\nMerit and market-based salary revisions every six months\\nPaid-for courses of your choosing (reminder on how to request them)\\nConferences and travel paid-for (the ones that you wish)\\nWork wherever you want - you can work from one of our offices or remotely. We can sponsor your office of choice!\\nRegular team parties & hangouts\\nA culture of growth - ambitious goals await you, and a culture that constantly fuels growth\\nWork with top specialists of the gaming market (ex-Meta, Playtika, My.Games, Creative Mobile, Wargaming, Nekki, Playrix etc - the best of the best choose Hypemasters)\"\n",
      "  }\n",
      "}\n"
     ]
    }
   ],
   "source": [
    "# Convert dataframe to OpenSearch JSON format\n",
    "documents = [\n",
    "    {\n",
    "        \"_index\": \"interns\",\n",
    "        \"_id\": idx,\n",
    "        \"_source\": row.to_dict()\n",
    "    }\n",
    "    for idx, row in df.iterrows()\n",
    "]\n",
    "\n",
    "# Write all documents to interns_sample.json file in JSON Lines format\n",
    "with open(f\"{BASE_DIR}/interns_sample.json\", \"w\") as f:\n",
    "    for document in documents:\n",
    "        f.write(json.dumps(document) + \"\\n\")"
   ]
  }
 ],
 "metadata": {
  "kernelspec": {
   "display_name": "langflow",
   "language": "python",
   "name": "python3"
  },
  "language_info": {
   "codemirror_mode": {
    "name": "ipython",
    "version": 3
   },
   "file_extension": ".py",
   "mimetype": "text/x-python",
   "name": "python",
   "nbconvert_exporter": "python",
   "pygments_lexer": "ipython3",
   "version": "3.8.10"
  }
 },
 "nbformat": 4,
 "nbformat_minor": 2
}
